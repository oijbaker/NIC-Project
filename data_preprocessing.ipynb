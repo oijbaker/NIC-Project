{
 "cells": [
  {
   "cell_type": "code",
   "execution_count": null,
   "metadata": {},
   "outputs": [],
   "source": [
    "import pandas as pd\n",
    "import numpy as np"
   ]
  },
  {
   "cell_type": "code",
   "execution_count": null,
   "metadata": {},
   "outputs": [],
   "source": [
    "df = pd.read_csv(\"Training_data.csv\")\n",
    "df.columns = [\"vol1\", \"close_1\", \"vol2\", \"close_2\",\"vol3\", \"close_3\",\"vol4\", \"close_4\",\"vol5\", \"close_5\",\"vol6\", \"close_6\",\"vol7\", \"close_7\",\"vol8\", \"close_8\", \"vol9\", \"close_9\",\"vol10\", \"close_10\"]\n",
    "df.head()"
   ]
  },
  {
   "cell_type": "markdown",
   "metadata": {},
   "source": [
    "Add 5 day moving averages"
   ]
  },
  {
   "cell_type": "code",
   "execution_count": null,
   "metadata": {},
   "outputs": [],
   "source": [
    "# size_array = [5, 10, 15, 25, 50]\n",
    "size_array = list(range(1, 100))\n"
   ]
  },
  {
   "cell_type": "code",
   "execution_count": null,
   "metadata": {},
   "outputs": [],
   "source": [
    "for index in size_array:\n",
    "    for k in range(1,11):\n",
    "        ma = [df['close_'+str(k)][i] for i in range(index)]\n",
    "        for i in range(index, len(df)):\n",
    "            ma.append(np.average([df['close_'+str(k)][n] for n in range(i-index, i)]))\n",
    "        # mas.append(ma)\n",
    "        df[f'avg{index}_{k}'] = ma"
   ]
  },
  {
   "cell_type": "code",
   "execution_count": null,
   "metadata": {},
   "outputs": [],
   "source": [
    "for index in size_array:\n",
    "    for k in range(1,11):\n",
    "        m = []\n",
    "        for i in range(0, index):\n",
    "            m.append(max([df['close_'+str(k)][i] for n in range(index)]))\n",
    "        for i in range(index, len(df)):\n",
    "            m.append(max([df['close_'+str(k)][i] for n in range(i-index, i)]))\n",
    "        df[f'max{index}_{k}'] = m"
   ]
  },
  {
   "cell_type": "code",
   "execution_count": null,
   "metadata": {},
   "outputs": [],
   "source": [
    "for index in size_array:\n",
    "    for k in range(1,11):\n",
    "        m = []\n",
    "        for i in range(0, index):\n",
    "            m.append(min([df['close_'+str(k)][i] for n in range(index)]))\n",
    "        for i in range(index, len(df)):\n",
    "            m.append(min([df['close_'+str(k)][i] for n in range(i-index, i)]))\n",
    "        df[f'min{index}_{k}'] = m"
   ]
  },
  {
   "cell_type": "code",
   "execution_count": null,
   "metadata": {},
   "outputs": [],
   "source": [
    "df.to_csv(\"complete_data.csv\")"
   ]
  }
 ],
 "metadata": {
  "kernelspec": {
   "display_name": "Python 3",
   "language": "python",
   "name": "python3"
  },
  "language_info": {
   "codemirror_mode": {
    "name": "ipython",
    "version": 3
   },
   "file_extension": ".py",
   "mimetype": "text/x-python",
   "name": "python",
   "nbconvert_exporter": "python",
   "pygments_lexer": "ipython3",
   "version": "3.8.10"
  },
  "orig_nbformat": 4,
  "vscode": {
   "interpreter": {
    "hash": "916dbcbb3f70747c44a77c7bcd40155683ae19c65e1c03b4aa3499c5328201f1"
   }
  }
 },
 "nbformat": 4,
 "nbformat_minor": 2
}
