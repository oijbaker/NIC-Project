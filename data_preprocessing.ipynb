{
 "cells": [
  {
   "cell_type": "code",
   "execution_count": 177,
   "metadata": {},
   "outputs": [],
   "source": [
    "import pandas as pd\n",
    "import numpy as np"
   ]
  },
  {
   "cell_type": "code",
   "execution_count": 178,
   "metadata": {},
   "outputs": [
    {
     "data": {
      "text/html": [
       "<div>\n",
       "<style scoped>\n",
       "    .dataframe tbody tr th:only-of-type {\n",
       "        vertical-align: middle;\n",
       "    }\n",
       "\n",
       "    .dataframe tbody tr th {\n",
       "        vertical-align: top;\n",
       "    }\n",
       "\n",
       "    .dataframe thead th {\n",
       "        text-align: right;\n",
       "    }\n",
       "</style>\n",
       "<table border=\"1\" class=\"dataframe\">\n",
       "  <thead>\n",
       "    <tr style=\"text-align: right;\">\n",
       "      <th></th>\n",
       "      <th>vol1</th>\n",
       "      <th>close_1</th>\n",
       "      <th>vol2</th>\n",
       "      <th>close_2</th>\n",
       "      <th>vol3</th>\n",
       "      <th>close_3</th>\n",
       "      <th>vol4</th>\n",
       "      <th>close_4</th>\n",
       "      <th>vol5</th>\n",
       "      <th>close_5</th>\n",
       "      <th>vol6</th>\n",
       "      <th>close_6</th>\n",
       "      <th>vol7</th>\n",
       "      <th>close_7</th>\n",
       "      <th>vol8</th>\n",
       "      <th>close_8</th>\n",
       "      <th>vol9</th>\n",
       "      <th>close_9</th>\n",
       "      <th>vol10</th>\n",
       "      <th>close_10</th>\n",
       "    </tr>\n",
       "  </thead>\n",
       "  <tbody>\n",
       "    <tr>\n",
       "      <th>0</th>\n",
       "      <td>4615000</td>\n",
       "      <td>112.93</td>\n",
       "      <td>10779800</td>\n",
       "      <td>333.34</td>\n",
       "      <td>12932000</td>\n",
       "      <td>162.00</td>\n",
       "      <td>3348400</td>\n",
       "      <td>290.75</td>\n",
       "      <td>9124400</td>\n",
       "      <td>967.65</td>\n",
       "      <td>4687200</td>\n",
       "      <td>406.02</td>\n",
       "      <td>26200</td>\n",
       "      <td>217.67</td>\n",
       "      <td>31904400</td>\n",
       "      <td>190.11</td>\n",
       "      <td>1486100</td>\n",
       "      <td>232.33</td>\n",
       "      <td>2406100</td>\n",
       "      <td>2372.81</td>\n",
       "    </tr>\n",
       "    <tr>\n",
       "      <th>1</th>\n",
       "      <td>13630100</td>\n",
       "      <td>114.73</td>\n",
       "      <td>8751600</td>\n",
       "      <td>323.51</td>\n",
       "      <td>6461300</td>\n",
       "      <td>164.00</td>\n",
       "      <td>3231700</td>\n",
       "      <td>289.75</td>\n",
       "      <td>6477400</td>\n",
       "      <td>969.43</td>\n",
       "      <td>6981000</td>\n",
       "      <td>407.25</td>\n",
       "      <td>6400</td>\n",
       "      <td>215.38</td>\n",
       "      <td>12396100</td>\n",
       "      <td>188.10</td>\n",
       "      <td>844400</td>\n",
       "      <td>239.14</td>\n",
       "      <td>8110500</td>\n",
       "      <td>2324.05</td>\n",
       "    </tr>\n",
       "    <tr>\n",
       "      <th>2</th>\n",
       "      <td>3197500</td>\n",
       "      <td>118.56</td>\n",
       "      <td>15594300</td>\n",
       "      <td>311.71</td>\n",
       "      <td>19371700</td>\n",
       "      <td>166.75</td>\n",
       "      <td>7053200</td>\n",
       "      <td>266.25</td>\n",
       "      <td>8223700</td>\n",
       "      <td>979.64</td>\n",
       "      <td>8573400</td>\n",
       "      <td>412.00</td>\n",
       "      <td>14900</td>\n",
       "      <td>218.81</td>\n",
       "      <td>23122600</td>\n",
       "      <td>187.87</td>\n",
       "      <td>917300</td>\n",
       "      <td>231.13</td>\n",
       "      <td>6586000</td>\n",
       "      <td>2309.75</td>\n",
       "    </tr>\n",
       "    <tr>\n",
       "      <th>3</th>\n",
       "      <td>5110400</td>\n",
       "      <td>118.33</td>\n",
       "      <td>13379500</td>\n",
       "      <td>311.38</td>\n",
       "      <td>8292100</td>\n",
       "      <td>166.00</td>\n",
       "      <td>13946000</td>\n",
       "      <td>268.50</td>\n",
       "      <td>13556800</td>\n",
       "      <td>1001.85</td>\n",
       "      <td>9593100</td>\n",
       "      <td>416.75</td>\n",
       "      <td>6800</td>\n",
       "      <td>215.95</td>\n",
       "      <td>16656400</td>\n",
       "      <td>186.08</td>\n",
       "      <td>1953900</td>\n",
       "      <td>230.48</td>\n",
       "      <td>3047800</td>\n",
       "      <td>2339.18</td>\n",
       "    </tr>\n",
       "    <tr>\n",
       "      <th>4</th>\n",
       "      <td>3989600</td>\n",
       "      <td>118.56</td>\n",
       "      <td>9930700</td>\n",
       "      <td>298.27</td>\n",
       "      <td>9164300</td>\n",
       "      <td>168.75</td>\n",
       "      <td>9220200</td>\n",
       "      <td>273.50</td>\n",
       "      <td>10576100</td>\n",
       "      <td>985.42</td>\n",
       "      <td>12612600</td>\n",
       "      <td>439.00</td>\n",
       "      <td>4700</td>\n",
       "      <td>215.95</td>\n",
       "      <td>20974500</td>\n",
       "      <td>184.74</td>\n",
       "      <td>1025300</td>\n",
       "      <td>227.13</td>\n",
       "      <td>3073300</td>\n",
       "      <td>2351.79</td>\n",
       "    </tr>\n",
       "  </tbody>\n",
       "</table>\n",
       "</div>"
      ],
      "text/plain": [
       "       vol1  close_1      vol2  close_2      vol3  close_3      vol4  close_4  \\\n",
       "0   4615000   112.93  10779800   333.34  12932000   162.00   3348400   290.75   \n",
       "1  13630100   114.73   8751600   323.51   6461300   164.00   3231700   289.75   \n",
       "2   3197500   118.56  15594300   311.71  19371700   166.75   7053200   266.25   \n",
       "3   5110400   118.33  13379500   311.38   8292100   166.00  13946000   268.50   \n",
       "4   3989600   118.56   9930700   298.27   9164300   168.75   9220200   273.50   \n",
       "\n",
       "       vol5  close_5      vol6  close_6   vol7  close_7      vol8  close_8  \\\n",
       "0   9124400   967.65   4687200   406.02  26200   217.67  31904400   190.11   \n",
       "1   6477400   969.43   6981000   407.25   6400   215.38  12396100   188.10   \n",
       "2   8223700   979.64   8573400   412.00  14900   218.81  23122600   187.87   \n",
       "3  13556800  1001.85   9593100   416.75   6800   215.95  16656400   186.08   \n",
       "4  10576100   985.42  12612600   439.00   4700   215.95  20974500   184.74   \n",
       "\n",
       "      vol9  close_9    vol10  close_10  \n",
       "0  1486100   232.33  2406100   2372.81  \n",
       "1   844400   239.14  8110500   2324.05  \n",
       "2   917300   231.13  6586000   2309.75  \n",
       "3  1953900   230.48  3047800   2339.18  \n",
       "4  1025300   227.13  3073300   2351.79  "
      ]
     },
     "execution_count": 178,
     "metadata": {},
     "output_type": "execute_result"
    }
   ],
   "source": [
    "df = pd.read_csv(\"Training_data.csv\")\n",
    "df.columns = [\"vol1\", \"close_1\", \"vol2\", \"close_2\",\"vol3\", \"close_3\",\"vol4\", \"close_4\",\"vol5\", \"close_5\",\"vol6\", \"close_6\",\"vol7\", \"close_7\",\"vol8\", \"close_8\", \"vol9\", \"close_9\",\"vol10\", \"close_10\"]\n",
    "df.head()"
   ]
  },
  {
   "cell_type": "markdown",
   "metadata": {},
   "source": [
    "Add 5 day moving averages"
   ]
  },
  {
   "cell_type": "code",
   "execution_count": 179,
   "metadata": {},
   "outputs": [
    {
     "name": "stdout",
     "output_type": "stream",
     "text": [
      "1145\n"
     ]
    }
   ],
   "source": [
    "# size_array = [5, 10, 15, 25, 50]\n",
    "size_array = list(range(1, 100))\n"
   ]
  },
  {
   "cell_type": "code",
   "execution_count": null,
   "metadata": {},
   "outputs": [],
   "source": [
    "for index in size_array:\n",
    "    for k in range(1,11):\n",
    "        ma = [df['close_'+str(k)][i] for i in range(index)]\n",
    "        for i in range(index, len(df)):\n",
    "            ma.append(np.average([df['close_'+str(k)][n] for n in range(i-index, i)]))\n",
    "        # mas.append(ma)\n",
    "        df[f'avg{index}_{k}'] = ma"
   ]
  },
  {
   "cell_type": "code",
   "execution_count": null,
   "metadata": {},
   "outputs": [],
   "source": [
    "for index in size_array:\n",
    "    for k in range(1,11):\n",
    "        m = []\n",
    "        for i in range(0, index):\n",
    "            m.append(max([df['close_'+str(k)][i] for n in range(index)]))\n",
    "        for i in range(index, len(df)):\n",
    "            m.append(max([df['close_'+str(k)][i] for n in range(i-index, i)]))\n",
    "        df[f'max{index}_{k}'] = m"
   ]
  },
  {
   "cell_type": "code",
   "execution_count": null,
   "metadata": {},
   "outputs": [],
   "source": [
    "for index in size_array:\n",
    "    for k in range(1,11):\n",
    "        m = []\n",
    "        for i in range(0, index):\n",
    "            m.append(min([df['close_'+str(k)][i] for n in range(index)]))\n",
    "        for i in range(index, len(df)):\n",
    "            m.append(min([df['close_'+str(k)][i] for n in range(i-index, i)]))\n",
    "        ms.append(m)\n",
    "        df[f'min{index}_{k}'] = m"
   ]
  },
  {
   "cell_type": "code",
   "execution_count": null,
   "metadata": {},
   "outputs": [],
   "source": [
    "df.to_csv(\"complete_data.csv\")"
   ]
  }
 ],
 "metadata": {
  "kernelspec": {
   "display_name": "Python 3",
   "language": "python",
   "name": "python3"
  },
  "language_info": {
   "codemirror_mode": {
    "name": "ipython",
    "version": 3
   },
   "file_extension": ".py",
   "mimetype": "text/x-python",
   "name": "python",
   "nbconvert_exporter": "python",
   "pygments_lexer": "ipython3",
   "version": "3.8.10"
  },
  "orig_nbformat": 4,
  "vscode": {
   "interpreter": {
    "hash": "916dbcbb3f70747c44a77c7bcd40155683ae19c65e1c03b4aa3499c5328201f1"
   }
  }
 },
 "nbformat": 4,
 "nbformat_minor": 2
}
